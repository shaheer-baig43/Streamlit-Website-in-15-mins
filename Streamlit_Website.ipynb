{
  "nbformat": 4,
  "nbformat_minor": 0,
  "metadata": {
    "colab": {
      "provenance": [],
      "authorship_tag": "ABX9TyPy/fgT8YBzTcTHsrq2ySBm",
      "include_colab_link": true
    },
    "kernelspec": {
      "name": "python3",
      "display_name": "Python 3"
    },
    "language_info": {
      "name": "python"
    }
  },
  "cells": [
    {
      "cell_type": "markdown",
      "metadata": {
        "id": "view-in-github",
        "colab_type": "text"
      },
      "source": [
        "<a href=\"https://colab.research.google.com/github/shaheer-baig43/Streamlit-Website-in-15-mins/blob/main/Streamlit_Website.ipynb\" target=\"_parent\"><img src=\"https://colab.research.google.com/assets/colab-badge.svg\" alt=\"Open In Colab\"/></a>"
      ]
    },
    {
      "cell_type": "code",
      "execution_count": null,
      "metadata": {
        "id": "jr5J0zQFUZe2"
      },
      "outputs": [],
      "source": []
    },
    {
      "cell_type": "markdown",
      "source": [
        "**Project 9: Streamlit Website in 15 mins**"
      ],
      "metadata": {
        "id": "iVWohoDIVNqF"
      }
    },
    {
      "cell_type": "code",
      "source": [
        "import random\n",
        "import streamlit as st\n",
        "import pandas as pd\n",
        "import time\n",
        "\n",
        "\n",
        "\n",
        "st.title('Streamlit Website in 15 Minutes!')\n",
        "\n",
        "st.write('### This is a countdown timer ###')\n",
        "\n",
        "\n",
        "seconds_input = st.text_input(\"Enter the countdown time in seconds:\", key=\"countdown_input\")\n",
        "\n",
        "\n",
        "if st.button(\"Start Timer\"):\n",
        "    if seconds_input.isdigit():\n",
        "        seconds = int(seconds_input)\n",
        "\n",
        "        countdown_placeholder = st.empty()\n",
        "\n",
        "        while seconds:\n",
        "            mins, secs = divmod(seconds, 60)\n",
        "            timer = f'{mins:02}:{secs:02}'\n",
        "            countdown_placeholder.markdown(f\"### {timer}\")\n",
        "            time.sleep(1)\n",
        "            seconds -= 1\n",
        "\n",
        "        countdown_placeholder.markdown(\"##  Time's up!\")\n",
        "    else:\n",
        "        st.error(\"Please enter a valid number!\")\n",
        "\n",
        "\n",
        "st.write('Made by Shaheer Baig')\n",
        "\n",
        "\n",
        "\n"
      ],
      "metadata": {
        "id": "Z3WVJnkqVgGb"
      },
      "execution_count": null,
      "outputs": []
    }
  ]
}